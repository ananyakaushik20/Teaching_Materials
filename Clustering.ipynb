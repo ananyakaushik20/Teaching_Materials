{
 "cells": [
  {
   "cell_type": "markdown",
   "id": "236814b2",
   "metadata": {},
   "source": [
    "# Clustering tutorial performed on AML gene expression data\n",
    "## Techniques - hierarchical clustering and k-means clustering"
   ]
  },
  {
   "cell_type": "code",
   "execution_count": null,
   "id": "4db0ca20",
   "metadata": {
    "vscode": {
     "languageId": "plaintext"
    }
   },
   "outputs": [],
   "source": [
    "#import necessary library\n",
    "import numpy as np\n",
    "import pandas as pd\n",
    "import matplotlib.pyplot as plt\n",
    "import seaborn as sns\n",
    "import umap\n"
   ]
  },
  {
   "cell_type": "code",
   "execution_count": null,
   "id": "9e960727",
   "metadata": {
    "vscode": {
     "languageId": "plaintext"
    }
   },
   "outputs": [],
   "source": [
    "#dataset\n",
    "data = pd.read_table(\"/content/gdrive/My Drive/aml/201028_GSE122505_Leukemia_clean.txt\", sep = \"\\t\")\n",
    "#table of the disease\n",
    "data.disease.value_counts()"
   ]
  },
  {
   "cell_type": "code",
   "execution_count": null,
   "id": "830400f7",
   "metadata": {
    "vscode": {
     "languageId": "plaintext"
    }
   },
   "outputs": [],
   "source": [
    "#removing some disease type\n",
    "data[\"disease\"] = np.where(data[\"disease\"] == \"Diabetes_Type_I\" , \"Diabetes\", data[\"disease\"])\n",
    "data[\"disease\"] = np.where(data[\"disease\"] == \"Diabetes_Type_II\" , \"Diabetes\", data[\"disease\"])\n",
    "other = ['CML','clinically_isolated_syndrome', 'MDS', 'DS_transient_myeloproliferative_disorder']\n",
    "data = data[~data.disease.isin(other)]\n",
    "target = data[\"disease\"]\n",
    "df = data.drop(\"disease\", 1)\n",
    "df = df.drop(\"GSM\", 1)\n",
    "df = df.drop(\"FAB\", 1)\n",
    "df.shape"
   ]
  },
  {
   "cell_type": "code",
   "execution_count": null,
   "id": "931d9d85",
   "metadata": {
    "vscode": {
     "languageId": "plaintext"
    }
   },
   "outputs": [],
   "source": [
    "df = df.drop(df.var()[(df.var() < 0.3)].index, axis=1)\n",
    "from scipy.stats import zscore\n",
    "df = df.apply(zscore)\n",
    "df.shape"
   ]
  },
  {
   "cell_type": "code",
   "execution_count": null,
   "id": "74866725",
   "metadata": {
    "vscode": {
     "languageId": "plaintext"
    }
   },
   "outputs": [],
   "source": [
    "from sklearn.decomposition import PCA\n",
    "pca = PCA(n_components=50)\n",
    "X = pca.fit(df).transform(df)\n",
    "\n",
    "from sklearn.preprocessing import LabelEncoder\n",
    "\n",
    "le = LabelEncoder()\n",
    "le.fit(target)\n",
    "y_lan = le.transform(target)\n",
    "\n",
    "pca_df = pd.DataFrame(columns = [\"x\", \"y\", \"name\", \"label\"])\n",
    "pca_df[\"PCA1\"] = X[:, 0]\n",
    "pca_df[\"PCA2\"] = X[:, 1]\n",
    "pca_df[\"Disease\"] = target\n",
    "pca_df[\"label\"] = y_lan\n",
    "\n",
    "sns.set(style=\"whitegrid\", palette=\"muted\")\n",
    "#sns.set_theme(style=\"whitegrid\")\n",
    "\n",
    "ax = sns.scatterplot(x=\"PCA1\", y=\"PCA2\", hue=\"Disease\",  data=pca_df)\n",
    "# Put the legend out of the figure\n",
    "plt.legend(bbox_to_anchor=(1.05, 1), loc=2, borderaxespad=0.)\n",
    "#plt.savefig(\"GSE122505_Leukemia_PCA.pdf\", dpi = 300)\n",
    "#plt.savefig(\"GSE122505_Leukemia_PCA.png\")\n",
    "#pca_df.to_csv(\"GSE122505_Leukemia_PCA.csv\")\n",
    "     "
   ]
  },
  {
   "cell_type": "code",
   "execution_count": null,
   "id": "cc7d0dfd",
   "metadata": {
    "vscode": {
     "languageId": "plaintext"
    }
   },
   "outputs": [],
   "source": [
    "from scipy.cluster.hierarchy import dendrogram, linkage\n",
    "from matplotlib import pyplot as plt\n",
    "\n",
    "linked = linkage(df, 'ward')\n",
    "\n",
    "\n",
    "     "
   ]
  },
  {
   "cell_type": "code",
   "execution_count": null,
   "id": "17d53619",
   "metadata": {
    "vscode": {
     "languageId": "plaintext"
    }
   },
   "outputs": [],
   "source": [
    "plt.figure(figsize=(100, 15))\n",
    "dendrogram(linked,\n",
    "            orientation='top',\n",
    "            #labels=target,\n",
    "            distance_sort='descending',\n",
    "            show_leaf_counts=True)\n",
    "plt.show()\n",
    "     "
   ]
  },
  {
   "cell_type": "code",
   "execution_count": null,
   "id": "07d8defb",
   "metadata": {
    "vscode": {
     "languageId": "plaintext"
    }
   },
   "outputs": [],
   "source": [
    "from sklearn.cluster import AgglomerativeClustering\n",
    "\n",
    "cluster = AgglomerativeClustering(n_clusters=7, affinity='euclidean', linkage='ward')\n",
    "cluster.fit_predict(df)\n",
    "     "
   ]
  },
  {
   "cell_type": "code",
   "execution_count": null,
   "id": "4006451f",
   "metadata": {
    "vscode": {
     "languageId": "plaintext"
    }
   },
   "outputs": [],
   "source": [
    "import numpy as np\n",
    "from matplotlib import pyplot as plt\n",
    "from scipy.cluster.hierarchy import dendrogram\n",
    "from sklearn.cluster import AgglomerativeClustering\n",
    "\n",
    "def plot_dendrogram(model, **kwargs):\n",
    "    # Create linkage matrix and then plot the dendrogram\n",
    "\n",
    "    # create the counts of samples under each node\n",
    "    counts = np.zeros(model.children_.shape[0])\n",
    "    n_samples = len(model.labels_)\n",
    "    for i, merge in enumerate(model.children_):\n",
    "        current_count = 0\n",
    "        for child_idx in merge:\n",
    "            if child_idx < n_samples:\n",
    "                current_count += 1  # leaf node\n",
    "            else:\n",
    "                current_count += counts[child_idx - n_samples]\n",
    "        counts[i] = current_count\n",
    "\n",
    "    linkage_matrix = np.column_stack([model.children_, model.distances_,\n",
    "                                      counts]).astype(float)\n",
    "\n",
    "    # Plot the corresponding dendrogram\n",
    "    dendrogram(linkage_matrix, **kwargs)\n",
    "\n",
    "# setting distance_threshold=0 ensures we compute the full tree.\n",
    "model = AgglomerativeClustering(distance_threshold=0, n_clusters=None)\n",
    "\n",
    "model = model.fit(df)\n",
    "plt.figure(figsize=(30, 10))\n",
    "plt.title('Hierarchical Clustering Dendrogram')\n",
    "# plot the top three levels of the dendrogram\n",
    "plot_dendrogram(model, truncate_mode='level', p=3)\n",
    "plt.xlabel(\"Number of points in node (or index of point if no parenthesis).\")\n",
    "plt.show()"
   ]
  },
  {
   "cell_type": "code",
   "execution_count": null,
   "id": "210b36ea",
   "metadata": {
    "vscode": {
     "languageId": "plaintext"
    }
   },
   "outputs": [],
   "source": [
    "#plotting on the PCA\n",
    "pca_df[\"HC_labels\"] = cluster.labels_\n",
    "pca_df['HC_labels'] = pca_df.HC_labels.astype('category')\n",
    "sns.set(style=\"whitegrid\", palette=\"muted\")\n",
    "#sns.set_theme(style=\"whitegrid\")\n",
    "\n",
    "ax = sns.scatterplot(x=\"PCA1\", y=\"PCA2\", hue=\"HC_labels\",  data=pca_df)\n",
    "# Put the legend out of the figure\n",
    "plt.legend(bbox_to_anchor=(1.05, 1), loc=2, borderaxespad=0.)\n",
    "#plt.savefig(\"GSE122505_Leukemia_HC.pdf\", dpi = 300)\n",
    "#plt.savefig(\"GSE122505_Leukemia_HC.png\")\n",
    "#pca_df.to_csv(\"GSE122505_Leukemia_HC.csv\")\n",
    "     "
   ]
  },
  {
   "cell_type": "code",
   "execution_count": null,
   "id": "821674b6",
   "metadata": {
    "vscode": {
     "languageId": "plaintext"
    }
   },
   "outputs": [],
   "source": [
    "#compute PCA\n",
    "pca = PCA(n_components=50)\n",
    "X = pca.fit(df).transform(df)\n",
    "#conduct hierarchical clustering\n",
    "cluster = AgglomerativeClustering(n_clusters=7, affinity='euclidean', linkage='ward')\n",
    "cluster.fit_predict(X)\n",
    "#plot the labels\n",
    "pca_df[\"HC_PCA_labels\"] = cluster.labels_\n",
    "pca_df['HC_PCA_labels'] = pca_df.HC_PCA_labels.astype('category')\n",
    "sns.set(style=\"whitegrid\", palette=\"muted\")\n",
    "ax = sns.scatterplot(x=\"PCA1\", y=\"PCA2\", hue=\"HC_PCA_labels\",  data=pca_df)\n",
    "plt.legend(bbox_to_anchor=(1.05, 1), loc=2, borderaxespad=0.)\n",
    "#save it\n",
    "#plt.savefig(\"GSE122505_Leukemia_HC_PCA.pdf\", dpi = 300)\n",
    "#plt.savefig(\"GSE122505_Leukemia_HC_PCA.png\")\n",
    "#pca_df.to_csv(\"GSE122505_Leukemia_HC_PCA.csv\")"
   ]
  },
  {
   "cell_type": "code",
   "execution_count": null,
   "id": "340d41de",
   "metadata": {
    "vscode": {
     "languageId": "plaintext"
    }
   },
   "outputs": [],
   "source": [
    "!pip install kneed"
   ]
  },
  {
   "cell_type": "code",
   "execution_count": null,
   "id": "d1d5d7e1",
   "metadata": {
    "vscode": {
     "languageId": "plaintext"
    }
   },
   "outputs": [],
   "source": [
    "#import required libraries\n",
    "from kneed import KneeLocator\n",
    "from sklearn.cluster import KMeans\n",
    "from sklearn.metrics import silhouette_score\n",
    "from sklearn.preprocessing import StandardScaler\n",
    "     \n",
    "\n",
    "kmeans = KMeans(init=\"random\", n_clusters=7, n_init=10, max_iter=300, random_state=42)\n",
    "kmeans.fit_predict(df)"
   ]
  },
  {
   "cell_type": "code",
   "execution_count": null,
   "id": "806c1011",
   "metadata": {
    "vscode": {
     "languageId": "plaintext"
    }
   },
   "outputs": [],
   "source": [
    "# The lowest SSE value\n",
    "kmeans.inertia_\n",
    "# Final locations of the centroid\n",
    "kmeans.cluster_centers_\n",
    "# The number of iterations required to converge\n",
    "kmeans.n_iter_"
   ]
  },
  {
   "cell_type": "code",
   "execution_count": null,
   "id": "6f1b710e",
   "metadata": {
    "vscode": {
     "languageId": "plaintext"
    }
   },
   "outputs": [],
   "source": [
    "pca_df[\"kmeans_labels\"] = kmeans.labels_\n",
    "pca_df['kmeans_labels'] = pca_df.kmeans_labels.astype('category')\n",
    "sns.set(style=\"whitegrid\", palette=\"muted\")\n",
    "ax = sns.scatterplot(x=\"PCA1\", y=\"PCA2\", hue=\"kmeans_labels\",  data=pca_df)\n",
    "plt.legend(bbox_to_anchor=(1.05, 1), loc=2, borderaxespad=0.)\n",
    "#save it\n",
    "#plt.savefig(\"GSE122505_Leukemia_kmeans.pdf\", dpi = 300)\n",
    "#plt.savefig(\"GSE122505_Leukemia_kmeans.png\")\n",
    "#pca_df.to_csv(\"GSE122505_Leukemia_kmeans.csv\")"
   ]
  },
  {
   "cell_type": "code",
   "execution_count": null,
   "id": "31285500",
   "metadata": {
    "vscode": {
     "languageId": "plaintext"
    }
   },
   "outputs": [],
   "source": [
    "kmeans_kwargs = { \"init\": \"random\",  \"n_init\": 10, \"max_iter\": 300, \"random_state\": 42}\n",
    "sse = [] #our list\n",
    "for k in range(1, 11):\n",
    "  kmeans = KMeans(n_clusters=k, **kmeans_kwargs)\n",
    "  kmeans.fit(df)\n",
    "  sse.append(kmeans.inertia_)\n",
    "     "
   ]
  },
  {
   "cell_type": "code",
   "execution_count": null,
   "id": "160085b5",
   "metadata": {
    "vscode": {
     "languageId": "plaintext"
    }
   },
   "outputs": [],
   "source": [
    "plt.style.use(\"fivethirtyeight\")\n",
    "plt.plot(range(1, 11), sse)\n",
    "plt.xticks(range(1, 11))\n",
    "plt.xlabel(\"Number of Clusters\")\n",
    "plt.ylabel(\"SSE\")\n",
    "plt.show()"
   ]
  },
  {
   "cell_type": "code",
   "execution_count": null,
   "id": "725f3591",
   "metadata": {
    "vscode": {
     "languageId": "plaintext"
    }
   },
   "outputs": [],
   "source": [
    "kl = KneeLocator(range(1, 11), sse, curve=\"convex\", direction=\"decreasing\")\n",
    "kl.elbow"
   ]
  },
  {
   "cell_type": "code",
   "execution_count": null,
   "id": "a8d3532e",
   "metadata": {
    "vscode": {
     "languageId": "plaintext"
    }
   },
   "outputs": [],
   "source": [
    "# A list containing all the average silhouette coffecient for each K\n",
    "silhouette_coefficients = []\n",
    "\n",
    "for k in range(2, 11):\n",
    "  kmeans = KMeans(n_clusters=k, **kmeans_kwargs)\n",
    "  kmeans.fit(df)\n",
    "  score = silhouette_score(df, kmeans.labels_)\n",
    "  silhouette_coefficients.append(score)"
   ]
  },
  {
   "cell_type": "code",
   "execution_count": null,
   "id": "da6bd058",
   "metadata": {
    "vscode": {
     "languageId": "plaintext"
    }
   },
   "outputs": [],
   "source": [
    "plt.style.use(\"fivethirtyeight\")\n",
    "plt.plot(range(2, 11), silhouette_coefficients)\n",
    "plt.xticks(range(2, 11))\n",
    "plt.xlabel(\"Number of Clusters\")\n",
    "plt.ylabel(\"Silhouette Coefficient\")\n",
    "plt.show()"
   ]
  },
  {
   "cell_type": "code",
   "execution_count": null,
   "id": "a1b1fb7d",
   "metadata": {
    "vscode": {
     "languageId": "plaintext"
    }
   },
   "outputs": [],
   "source": [
    "from sklearn.metrics import adjusted_rand_score\n",
    "ari_kmeans = adjusted_rand_score(target, pca_df[\"kmeans_labels\"] )\n",
    "clust_kmeans = adjusted_rand_score(target, cluster.labels_)\n",
    "ari_kmeans, clust_kmeans"
   ]
  }
 ],
 "metadata": {
  "language_info": {
   "name": "python"
  }
 },
 "nbformat": 4,
 "nbformat_minor": 5
}
